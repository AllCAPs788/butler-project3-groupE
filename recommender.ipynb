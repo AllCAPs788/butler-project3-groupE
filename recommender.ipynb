{
 "cells": [
  {
   "cell_type": "code",
   "execution_count": 1,
   "metadata": {},
   "outputs": [],
   "source": [
    "import pandas as pd\n",
    "from sklearn.feature_extraction.text import TfidfVectorizer\n",
    "from sklearn.metrics.pairwise import linear_kernel\n"
   ]
  },
  {
   "cell_type": "markdown",
   "metadata": {},
   "source": [
    "## Import the data\n",
    "\n",
    "In the Flask app, this code will be changed to get the data directly from the database instead."
   ]
  },
  {
   "cell_type": "code",
   "execution_count": 2,
   "metadata": {},
   "outputs": [],
   "source": [
    "# read csv file\n",
    "\n",
    "df = pd.read_csv(\"data/final_cleaned.csv\")"
   ]
  },
  {
   "cell_type": "code",
   "execution_count": 3,
   "metadata": {},
   "outputs": [
    {
     "data": {
      "text/html": [
       "<div>\n",
       "<style scoped>\n",
       "    .dataframe tbody tr th:only-of-type {\n",
       "        vertical-align: middle;\n",
       "    }\n",
       "\n",
       "    .dataframe tbody tr th {\n",
       "        vertical-align: top;\n",
       "    }\n",
       "\n",
       "    .dataframe thead th {\n",
       "        text-align: right;\n",
       "    }\n",
       "</style>\n",
       "<table border=\"1\" class=\"dataframe\">\n",
       "  <thead>\n",
       "    <tr style=\"text-align: right;\">\n",
       "      <th></th>\n",
       "      <th>Unnamed: 0</th>\n",
       "      <th>title</th>\n",
       "      <th>authors</th>\n",
       "      <th>isbn</th>\n",
       "      <th>publisher</th>\n",
       "      <th>categories</th>\n",
       "      <th>thumbnail</th>\n",
       "    </tr>\n",
       "  </thead>\n",
       "  <tbody>\n",
       "    <tr>\n",
       "      <th>0</th>\n",
       "      <td>0</td>\n",
       "      <td>Harry Potter and the Half-Blood Prince (Harry ...</td>\n",
       "      <td>J.K. Rowling/Mary GrandPré</td>\n",
       "      <td>0439785960</td>\n",
       "      <td>Scholastic Inc.</td>\n",
       "      <td>Juvenile Fiction</td>\n",
       "      <td>http://books.google.com/books/content?id=QzI0B...</td>\n",
       "    </tr>\n",
       "    <tr>\n",
       "      <th>1</th>\n",
       "      <td>1</td>\n",
       "      <td>Harry Potter and the Order of the Phoenix (Har...</td>\n",
       "      <td>J.K. Rowling/Mary GrandPré</td>\n",
       "      <td>0439358078</td>\n",
       "      <td>Scholastic Inc.</td>\n",
       "      <td>Juvenile Fiction</td>\n",
       "      <td>http://books.google.com/books/content?id=OIJ5B...</td>\n",
       "    </tr>\n",
       "    <tr>\n",
       "      <th>2</th>\n",
       "      <td>2</td>\n",
       "      <td>Harry Potter and the Chamber of Secrets (Harry...</td>\n",
       "      <td>J.K. Rowling</td>\n",
       "      <td>0439554896</td>\n",
       "      <td>Scholastic</td>\n",
       "      <td>Juvenile Fiction</td>\n",
       "      <td>http://books.google.com/books/content?id=h2Y-P...</td>\n",
       "    </tr>\n",
       "    <tr>\n",
       "      <th>3</th>\n",
       "      <td>3</td>\n",
       "      <td>Harry Potter and the Prisoner of Azkaban (Harr...</td>\n",
       "      <td>J.K. Rowling/Mary GrandPré</td>\n",
       "      <td>043965548X</td>\n",
       "      <td>Scholastic Inc.</td>\n",
       "      <td>Juvenile Fiction</td>\n",
       "      <td>http://books.google.com/books/content?id=IZN5B...</td>\n",
       "    </tr>\n",
       "    <tr>\n",
       "      <th>4</th>\n",
       "      <td>4</td>\n",
       "      <td>Harry Potter Boxed Set  Books 1-5 (Harry Potte...</td>\n",
       "      <td>J.K. Rowling/Mary GrandPré</td>\n",
       "      <td>0439682584</td>\n",
       "      <td>Scholastic</td>\n",
       "      <td>Juvenile Fiction</td>\n",
       "      <td>http://books.google.com/books/content?id=DAAAA...</td>\n",
       "    </tr>\n",
       "  </tbody>\n",
       "</table>\n",
       "</div>"
      ],
      "text/plain": [
       "   Unnamed: 0                                              title  \\\n",
       "0           0  Harry Potter and the Half-Blood Prince (Harry ...   \n",
       "1           1  Harry Potter and the Order of the Phoenix (Har...   \n",
       "2           2  Harry Potter and the Chamber of Secrets (Harry...   \n",
       "3           3  Harry Potter and the Prisoner of Azkaban (Harr...   \n",
       "4           4  Harry Potter Boxed Set  Books 1-5 (Harry Potte...   \n",
       "\n",
       "                      authors        isbn        publisher        categories  \\\n",
       "0  J.K. Rowling/Mary GrandPré  0439785960  Scholastic Inc.  Juvenile Fiction   \n",
       "1  J.K. Rowling/Mary GrandPré  0439358078  Scholastic Inc.  Juvenile Fiction   \n",
       "2                J.K. Rowling  0439554896       Scholastic  Juvenile Fiction   \n",
       "3  J.K. Rowling/Mary GrandPré  043965548X  Scholastic Inc.  Juvenile Fiction   \n",
       "4  J.K. Rowling/Mary GrandPré  0439682584       Scholastic  Juvenile Fiction   \n",
       "\n",
       "                                           thumbnail  \n",
       "0  http://books.google.com/books/content?id=QzI0B...  \n",
       "1  http://books.google.com/books/content?id=OIJ5B...  \n",
       "2  http://books.google.com/books/content?id=h2Y-P...  \n",
       "3  http://books.google.com/books/content?id=IZN5B...  \n",
       "4  http://books.google.com/books/content?id=DAAAA...  "
      ]
     },
     "execution_count": 3,
     "metadata": {},
     "output_type": "execute_result"
    }
   ],
   "source": [
    "# display dataframe\n",
    "\n",
    "df.head()"
   ]
  },
  {
   "cell_type": "markdown",
   "metadata": {},
   "source": [
    "## Combine text attributes into one column"
   ]
  },
  {
   "cell_type": "code",
   "execution_count": 4,
   "metadata": {},
   "outputs": [],
   "source": [
    "# combine title, authors, publisher, & category columns into one\n",
    "\n",
    "df['all'] = df['title'] + df['authors'] + df['publisher'] + df['categories']"
   ]
  },
  {
   "cell_type": "markdown",
   "metadata": {},
   "source": [
    "## TF-IDF \n",
    "\n",
    "Set the vectorizer as TFIDvectorizer from scikit-learn.  This will be used to convert our collection of text documents for each book into a matrix of features.  TF-IDF measures the importance of each word."
   ]
  },
  {
   "cell_type": "code",
   "execution_count": 5,
   "metadata": {},
   "outputs": [],
   "source": [
    "# set to analyze words \n",
    "\n",
    "vectorizer = TfidfVectorizer(analyzer='word')"
   ]
  },
  {
   "cell_type": "markdown",
   "metadata": {},
   "source": [
    "## Fit & Transform\n",
    "\n",
    "Use the column of all the text attributes and the vectorizer to create a matrix of the documents and their TD-IDF calculations."
   ]
  },
  {
   "cell_type": "code",
   "execution_count": 6,
   "metadata": {},
   "outputs": [],
   "source": [
    "tfidf_all_content = vectorizer.fit_transform(df['all'])"
   ]
  },
  {
   "cell_type": "code",
   "execution_count": 7,
   "metadata": {},
   "outputs": [
    {
     "data": {
      "text/plain": [
       "<5290x18488 sparse matrix of type '<class 'numpy.float64'>'\n",
       "\twith 52031 stored elements in Compressed Sparse Row format>"
      ]
     },
     "execution_count": 7,
     "metadata": {},
     "output_type": "execute_result"
    }
   ],
   "source": [
    "tfidf_all_content"
   ]
  },
  {
   "cell_type": "markdown",
   "metadata": {},
   "source": [
    "## Compare Similarity\n",
    "\n",
    "Create a matrix that mathmatically compares the similiarities between every pair of books.  The linear kernal method from scikit-learn can be used to calculate the cosine similarities between each pair of books by comparing our TF-IDF matrix to itself.\n",
    "\n",
    "[Cosine similarity](https://en.wikipedia.org/wiki/Cosine_similarity) is \"a measure of similarity between two non-zero vectors of an inner product space\" per Wikipedia.  This one of several ways to mathmatically measure similarity.\n",
    "\n",
    "[Kernal methods](https://en.wikipedia.org/wiki/Kernel_method) are useful for high-dimensional features (such as the matrix we just created) because they do not have to explicitly compute every coordinate.  "
   ]
  },
  {
   "cell_type": "code",
   "execution_count": 8,
   "metadata": {},
   "outputs": [],
   "source": [
    "cosine_similarity_all_content = linear_kernel(tfidf_all_content, tfidf_all_content)"
   ]
  },
  {
   "cell_type": "markdown",
   "metadata": {},
   "source": [
    "## Set up dataframe & indexes"
   ]
  },
  {
   "cell_type": "code",
   "execution_count": 9,
   "metadata": {},
   "outputs": [],
   "source": [
    "# create new dataframe with reset index\n",
    "\n",
    "books = df.reset_index(drop=True)"
   ]
  },
  {
   "cell_type": "code",
   "execution_count": 10,
   "metadata": {},
   "outputs": [],
   "source": [
    "# create a series of the indexes\n",
    "\n",
    "indices = pd.Series(books['title'].index)"
   ]
  },
  {
   "cell_type": "markdown",
   "metadata": {},
   "source": [
    "## Get user-defined book\n",
    "\n",
    "In the Flask app, the book chosen by the user will be retrieved by an input form.  For this notebook, the book title is hard-coded.\n",
    "\n",
    "Using the book title, the index of the book is found."
   ]
  },
  {
   "cell_type": "code",
   "execution_count": 11,
   "metadata": {},
   "outputs": [
    {
     "data": {
      "text/plain": [
       "120"
      ]
     },
     "execution_count": 11,
     "metadata": {},
     "output_type": "execute_result"
    }
   ],
   "source": [
    "input_title = \"War and Peace\"\n",
    "\n",
    "input_array = books[books['title'] == input_title].index.values\n",
    "\n",
    "input_index = input_array[0]\n",
    "\n",
    "input_index"
   ]
  },
  {
   "cell_type": "markdown",
   "metadata": {},
   "source": [
    "## Retrieve top 10 most similar books\n",
    "\n",
    "A function is created to find the 10 most similar books to the book the user chooses.  The index of the chosen book and the matrix of cosine similarities are passed to the function.  All the similarity scores that compare that book to each other book are listed and then sorted.  The first 10 of the list are sliced and the index of each book is retreived.  The 10 indexes are then used to get the titles and authors and are zipped up into a list."
   ]
  },
  {
   "cell_type": "code",
   "execution_count": 12,
   "metadata": {},
   "outputs": [],
   "source": [
    "# Function to get the most similar books\n",
    "def recommend(index, method):\n",
    "    id = indices[index]\n",
    "    similarity_scores = list(enumerate(method[id]))\n",
    "    similarity_scores = sorted(similarity_scores, key=lambda x: x[1], reverse=True)\n",
    "    similarity_scores = similarity_scores[1:11]\n",
    "    \n",
    "    #Get the books index\n",
    "    books_index = [i[0] for i in similarity_scores]\n",
    "    \n",
    "    titles = books['title'].iloc[books_index]\n",
    "    authors = books['authors'].iloc[books_index]\n",
    "    \n",
    "    #data = pd.DataFrame(list(zip(titles, authors)), columns =['Title', 'Authors'])\n",
    "    \n",
    "    a_zip = zip(titles, authors)\n",
    "    data = list(a_zip)\n",
    "  \n",
    "    return data"
   ]
  },
  {
   "cell_type": "code",
   "execution_count": 13,
   "metadata": {},
   "outputs": [
    {
     "data": {
      "text/plain": [
       "[('Collected Shorter Fiction: Volume I',\n",
       "  'Leo Tolstoy/Aylmer Maude/Nigel J. Cooper'),\n",
       " ('War and Peace and War: The Rise and Fall of Empires', 'Peter Turchin'),\n",
       " ('Tolstoy: Anna Karenina', 'Anthony Thorlby'),\n",
       " ('The Gardens of Emily Dickinson', 'Judith Farr/Louise Carter'),\n",
       " ('The Last Wife of Henry VIII', 'Carolly Erickson'),\n",
       " ('Paris Spleen', 'Charles Baudelaire/Louise Varèse'),\n",
       " ('Sexus (The Rosy Crucifixion  #1)', 'Henry Miller'),\n",
       " ('The Forever War (The Forever War  #1)', 'Joe Haldeman'),\n",
       " ('Pride and Prejudice', 'Jane Austen'),\n",
       " ('When I Feel Angry', 'Nancy Cote/Cornelia Maude Spelman')]"
      ]
     },
     "execution_count": 13,
     "metadata": {},
     "output_type": "execute_result"
    }
   ],
   "source": [
    "# pass the book index & the cosine similiarities\n",
    "\n",
    "recommended_list = recommend(input_index, cosine_similarity_all_content)\n",
    "recommended_list"
   ]
  },
  {
   "cell_type": "markdown",
   "metadata": {},
   "source": [
    "## Last step - Pass the data to the website to display\n",
    "\n",
    "Now that the list of recommended books has been created, the Flask app will pass the list to the html page to display using Jinja."
   ]
  }
 ],
 "metadata": {
  "kernelspec": {
   "display_name": "Python [conda env:PythonData]",
   "language": "python",
   "name": "conda-env-PythonData-py"
  },
  "language_info": {
   "codemirror_mode": {
    "name": "ipython",
    "version": 3
   },
   "file_extension": ".py",
   "mimetype": "text/x-python",
   "name": "python",
   "nbconvert_exporter": "python",
   "pygments_lexer": "ipython3",
   "version": "3.6.10"
  }
 },
 "nbformat": 4,
 "nbformat_minor": 4
}
